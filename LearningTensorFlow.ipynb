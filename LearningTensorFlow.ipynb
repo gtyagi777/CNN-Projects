{
  "nbformat": 4,
  "nbformat_minor": 0,
  "metadata": {
    "colab": {
      "name": "LearningTensorFlow.ipynb",
      "version": "0.3.2",
      "provenance": [],
      "include_colab_link": true
    },
    "kernelspec": {
      "name": "python3",
      "display_name": "Python 3"
    }
  },
  "cells": [
    {
      "cell_type": "markdown",
      "metadata": {
        "id": "view-in-github",
        "colab_type": "text"
      },
      "source": [
        "<a href=\"https://colab.research.google.com/github/gtyagi777/CNN-Projects/blob/master/LearningTensorFlow.ipynb\" target=\"_parent\"><img src=\"https://colab.research.google.com/assets/colab-badge.svg\" alt=\"Open In Colab\"/></a>"
      ]
    },
    {
      "metadata": {
        "id": "k_Mhe76oJkE2",
        "colab_type": "code",
        "colab": {
          "base_uri": "https://localhost:8080/",
          "height": 35
        },
        "outputId": "60be4e44-ea0d-4f0a-9e7c-805000fd19f4"
      },
      "cell_type": "code",
      "source": [
        "import tensorflow as tf\n",
        "message = tf.constant('Welcome to the exciting world of Deep Neural Networks!')\n",
        "with tf.Session() as sess:\n",
        "  print(sess.run(message).decode())"
      ],
      "execution_count": 5,
      "outputs": [
        {
          "output_type": "stream",
          "text": [
            "Welcome to the exciting world of Deep Neural Networks!\n"
          ],
          "name": "stdout"
        }
      ]
    },
    {
      "metadata": {
        "id": "iM37KniJJsTM",
        "colab_type": "code",
        "colab": {
          "base_uri": "https://localhost:8080/",
          "height": 35
        },
        "outputId": "e5bee7e1-aa11-4c75-d693-068f6affe523"
      },
      "cell_type": "code",
      "source": [
        "v1 = tf.constant([1,2,3,4])\n",
        "v2 = tf.constant([1,2,3,4])\n",
        "v_add = tf.add(v1,v2)\n",
        "with tf.Session() as sess:\n",
        "  print(sess.run(v_add))"
      ],
      "execution_count": 7,
      "outputs": [
        {
          "output_type": "stream",
          "text": [
            "[2 4 6 8]\n"
          ],
          "name": "stdout"
        }
      ]
    },
    {
      "metadata": {
        "id": "iYrMkBawSmpi",
        "colab_type": "code",
        "colab": {}
      },
      "cell_type": "code",
      "source": [
        ""
      ],
      "execution_count": 0,
      "outputs": []
    }
  ]
}