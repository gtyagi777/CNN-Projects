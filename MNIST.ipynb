{
  "nbformat": 4,
  "nbformat_minor": 0,
  "metadata": {
    "colab": {
      "name": "MNIST.ipynb",
      "version": "0.3.2",
      "provenance": [],
      "collapsed_sections": [],
      "include_colab_link": true
    },
    "kernelspec": {
      "name": "python3",
      "display_name": "Python 3"
    }
  },
  "cells": [
    {
      "cell_type": "markdown",
      "metadata": {
        "id": "view-in-github",
        "colab_type": "text"
      },
      "source": [
        "<a href=\"https://colab.research.google.com/github/gtyagi777/CNN-Projects/blob/master/MNIST.ipynb\" target=\"_parent\"><img src=\"https://colab.research.google.com/assets/colab-badge.svg\" alt=\"Open In Colab\"/></a>"
      ]
    },
    {
      "metadata": {
        "id": "5DxxbloLWApm",
        "colab_type": "code",
        "colab": {}
      },
      "cell_type": "code",
      "source": [
        "import matplotlib.pyplot as plt\n",
        "import numpy as np\n",
        "import tensorflow as tf\n",
        "from tensorflow.contrib.learn.python.learn.datasets.mnist import read_data_sets"
      ],
      "execution_count": 0,
      "outputs": []
    },
    {
      "metadata": {
        "id": "NOr8gPtRWwu3",
        "colab_type": "code",
        "colab": {
          "base_uri": "https://localhost:8080/",
          "height": 87
        },
        "outputId": "8b1b8e77-6dff-477f-a321-faa705329455"
      },
      "cell_type": "code",
      "source": [
        "# Load data\n",
        "data_dir = 'temp'\n",
        "mnist = read_data_sets(data_dir)\n",
        "sess = tf.Session()\n"
      ],
      "execution_count": 38,
      "outputs": [
        {
          "output_type": "stream",
          "text": [
            "Extracting temp/train-images-idx3-ubyte.gz\n",
            "Extracting temp/train-labels-idx1-ubyte.gz\n",
            "Extracting temp/t10k-images-idx3-ubyte.gz\n",
            "Extracting temp/t10k-labels-idx1-ubyte.gz\n"
          ],
          "name": "stdout"
        }
      ]
    },
    {
      "metadata": {
        "id": "7UvWpMEGdvl_",
        "colab_type": "code",
        "colab": {}
      },
      "cell_type": "code",
      "source": [
        "train_xdata = np.array([np.reshape(x, (28,28)) for x in mnist.train.images])\n",
        "test_xdata = np.array([np.reshape(x, (28,28)) for x in mnist.test.images])\n",
        "# Convert labels into one-hot encoded vectors\n",
        "train_labels = mnist.train.labels\n",
        "test_labels = mnist.test.labels"
      ],
      "execution_count": 0,
      "outputs": []
    },
    {
      "metadata": {
        "id": "nTTA-6BMdwY-",
        "colab_type": "code",
        "colab": {}
      },
      "cell_type": "code",
      "source": [
        "# Set model parameters\n",
        "batch_size = 100\n",
        "learning_rate = 0.005\n",
        "evaluation_size = 500\n",
        "image_width = train_xdata[0].shape[0]\n",
        "image_height = train_xdata[0].shape[1]\n",
        "target_size = max(train_labels) + 1\n",
        "num_channels = 1 # greyscale = 1 channel\n",
        "generations = 500\n",
        "eval_every = 5\n",
        "conv1_features = 25\n",
        "conv2_features = 50\n",
        "max_pool_size1 = 2 # NxN window for 1st max pool layer\n",
        "max_pool_size2 = 2 # NxN window for 2nd max pool layer\n",
        "fully_connected_size1 = 100"
      ],
      "execution_count": 0,
      "outputs": []
    },
    {
      "metadata": {
        "id": "6yu0n0EXd0sx",
        "colab_type": "code",
        "colab": {}
      },
      "cell_type": "code",
      "source": [
        "# Declare model placeholders\n",
        "x_input_shape = (batch_size, image_width, image_height, num_channels)\n",
        "x_input = tf.placeholder(tf.float32, shape=x_input_shape)\n",
        "y_target = tf.placeholder(tf.int32, shape=(batch_size))\n",
        "eval_input_shape = (evaluation_size, image_width, image_height, num_channels)\n",
        "eval_input = tf.placeholder(tf.float32, shape=eval_input_shape)\n",
        "eval_target = tf.placeholder(tf.int32, shape=(evaluation_size))\n",
        "\n",
        "# Declare model parameters\n",
        "conv1_weight = tf.Variable(tf.truncated_normal([4, 4, num_channels, conv1_features],\n",
        "                                               stddev=0.1, dtype=tf.float32))\n",
        "conv1_bias = tf.Variable(tf.zeros([conv1_features], dtype=tf.float32))\n",
        "\n",
        "conv2_weight = tf.Variable(tf.truncated_normal([4, 4, conv1_features, conv2_features],\n",
        "                                               stddev=0.1, dtype=tf.float32))\n",
        "conv2_bias = tf.Variable(tf.zeros([conv2_features], dtype=tf.float32))"
      ],
      "execution_count": 0,
      "outputs": []
    },
    {
      "metadata": {
        "id": "GIDx1sJEd3PY",
        "colab_type": "code",
        "colab": {}
      },
      "cell_type": "code",
      "source": [
        "# fully connected variables\n",
        "resulting_width = image_width // (max_pool_size1 * max_pool_size2)\n",
        "resulting_height = image_height // (max_pool_size1 * max_pool_size2)\n",
        "full1_input_size = resulting_width * resulting_height * conv2_features\n",
        "full1_weight = tf.Variable(tf.truncated_normal([full1_input_size, fully_connected_size1],\n",
        "                          stddev=0.1, dtype=tf.float32))\n",
        "full1_bias = tf.Variable(tf.truncated_normal([fully_connected_size1], stddev=0.1, dtype=tf.float32))\n",
        "full2_weight = tf.Variable(tf.truncated_normal([fully_connected_size1, target_size],\n",
        "                                               stddev=0.1, dtype=tf.float32))\n",
        "full2_bias = tf.Variable(tf.truncated_normal([target_size], stddev=0.1, dtype=tf.float32))"
      ],
      "execution_count": 0,
      "outputs": []
    },
    {
      "metadata": {
        "id": "jHMdm7EFd803",
        "colab_type": "code",
        "colab": {}
      },
      "cell_type": "code",
      "source": [
        "# Initialize Model Operations\n",
        "def my_conv_net(input_data):\n",
        "    # First Conv-ReLU-MaxPool Layer\n",
        "    conv1 = tf.nn.conv2d(input_data, conv1_weight, strides=[1, 1, 1, 1], padding='SAME')\n",
        "    relu1 = tf.nn.relu(tf.nn.bias_add(conv1, conv1_bias))\n",
        "    max_pool1 = tf.nn.max_pool(relu1, ksize=[1, max_pool_size1, max_pool_size1, 1],\n",
        "                               strides=[1, max_pool_size1, max_pool_size1, 1], padding='SAME')\n",
        "\n",
        "    # Second Conv-ReLU-MaxPool Layer\n",
        "    conv2 = tf.nn.conv2d(max_pool1, conv2_weight, strides=[1, 1, 1, 1], padding='SAME')\n",
        "    relu2 = tf.nn.relu(tf.nn.bias_add(conv2, conv2_bias))\n",
        "    max_pool2 = tf.nn.max_pool(relu2, ksize=[1, max_pool_size2, max_pool_size2, 1],\n",
        "                               strides=[1, max_pool_size2, max_pool_size2, 1], padding='SAME')\n",
        "\n",
        "    # Transform Output into a 1xN layer for next fully connected layer\n",
        "    final_conv_shape = max_pool2.get_shape().as_list()\n",
        "    final_shape = final_conv_shape[1] * final_conv_shape[2] * final_conv_shape[3]\n",
        "    flat_output = tf.reshape(max_pool2, [final_conv_shape[0], final_shape])\n",
        "\n",
        "    # First Fully Connected Layer\n",
        "    fully_connected1 = tf.nn.relu(tf.add(tf.matmul(flat_output, full1_weight), full1_bias))\n",
        "\n",
        "    # Second Fully Connected Layer\n",
        "    final_model_output = tf.add(tf.matmul(fully_connected1, full2_weight), full2_bias)\n",
        "    \n",
        "    return(final_model_output)\n",
        "\n",
        "model_output = my_conv_net(x_input)\n",
        "test_model_output = my_conv_net(eval_input)\n"
      ],
      "execution_count": 0,
      "outputs": []
    },
    {
      "metadata": {
        "id": "gBcM0EQDd9qI",
        "colab_type": "code",
        "colab": {}
      },
      "cell_type": "code",
      "source": [
        "# Declare Loss Function (softmax cross entropy)\n",
        "loss = tf.reduce_mean(tf.nn.sparse_softmax_cross_entropy_with_logits(logits=model_output, labels=y_target))\n",
        "\n",
        "# Create a prediction function\n",
        "prediction = tf.nn.softmax(model_output)\n",
        "test_prediction = tf.nn.softmax(test_model_output)\n",
        "\n",
        "# Create accuracy function\n",
        "def get_accuracy(logits, targets):\n",
        "    batch_predictions = np.argmax(logits, axis=1)\n",
        "    num_correct = np.sum(np.equal(batch_predictions, targets))\n",
        "    return(100. * num_correct/batch_predictions.shape[0])\n",
        "\n",
        "# Create an optimizer\n",
        "my_optimizer = tf.train.MomentumOptimizer(learning_rate, 0.9)\n",
        "train_step = my_optimizer.minimize(loss)"
      ],
      "execution_count": 0,
      "outputs": []
    },
    {
      "metadata": {
        "id": "ZOOcsJ8keArC",
        "colab_type": "code",
        "colab": {}
      },
      "cell_type": "code",
      "source": [
        "# Initialize Variables\n",
        "init = tf.global_variables_initializer()\n",
        "sess.run(init)\n"
      ],
      "execution_count": 0,
      "outputs": []
    },
    {
      "metadata": {
        "id": "wBmCu1o1eFNp",
        "colab_type": "code",
        "colab": {
          "base_uri": "https://localhost:8080/",
          "height": 1751
        },
        "outputId": "17461e77-2d31-4cbe-e51b-d23a9c9f592b"
      },
      "cell_type": "code",
      "source": [
        "# Start training loop\n",
        "train_loss = []\n",
        "train_acc = []\n",
        "test_acc = []\n",
        "for i in range(generations):\n",
        "    rand_index = np.random.choice(len(train_xdata), size=batch_size)\n",
        "    rand_x = train_xdata[rand_index]\n",
        "    rand_x = np.expand_dims(rand_x, 3)\n",
        "    rand_y = train_labels[rand_index]\n",
        "    train_dict = {x_input: rand_x, y_target: rand_y}\n",
        "    \n",
        "    sess.run(train_step, feed_dict=train_dict)\n",
        "    temp_train_loss, temp_train_preds = sess.run([loss, prediction], feed_dict=train_dict)\n",
        "    temp_train_acc = get_accuracy(temp_train_preds, rand_y)\n",
        "    \n",
        "    if (i+1) % eval_every == 0:\n",
        "        eval_index = np.random.choice(len(test_xdata), size=evaluation_size)\n",
        "        eval_x = test_xdata[eval_index]\n",
        "        eval_x = np.expand_dims(eval_x, 3)\n",
        "        eval_y = test_labels[eval_index]\n",
        "        test_dict = {eval_input: eval_x, eval_target: eval_y}\n",
        "        test_preds = sess.run(test_prediction, feed_dict=test_dict)\n",
        "        temp_test_acc = get_accuracy(test_preds, eval_y)\n",
        "        \n",
        "        # Record and print results\n",
        "        train_loss.append(temp_train_loss)\n",
        "        train_acc.append(temp_train_acc)\n",
        "        test_acc.append(temp_test_acc)\n",
        "        acc_and_loss = [(i+1), temp_train_loss, temp_train_acc, temp_test_acc]\n",
        "        acc_and_loss = [np.round(x,2) for x in acc_and_loss]\n",
        "        print('Generation # {}. Train Loss: {:.2f}. Train Acc (Test Acc): {:.2f} ({:.2f})'.format(*acc_and_loss))\n",
        "    \n",
        "    \n"
      ],
      "execution_count": 46,
      "outputs": [
        {
          "output_type": "stream",
          "text": [
            "Generation # 5. Train Loss: 2.31. Train Acc (Test Acc): 12.00 (11.20)\n",
            "Generation # 10. Train Loss: 2.23. Train Acc (Test Acc): 20.00 (17.00)\n",
            "Generation # 15. Train Loss: 2.13. Train Acc (Test Acc): 37.00 (33.00)\n",
            "Generation # 20. Train Loss: 2.08. Train Acc (Test Acc): 33.00 (39.40)\n",
            "Generation # 25. Train Loss: 1.91. Train Acc (Test Acc): 49.00 (50.20)\n",
            "Generation # 30. Train Loss: 1.83. Train Acc (Test Acc): 43.00 (61.40)\n",
            "Generation # 35. Train Loss: 1.45. Train Acc (Test Acc): 70.00 (68.00)\n",
            "Generation # 40. Train Loss: 1.21. Train Acc (Test Acc): 74.00 (66.20)\n",
            "Generation # 45. Train Loss: 0.95. Train Acc (Test Acc): 73.00 (73.20)\n",
            "Generation # 50. Train Loss: 0.82. Train Acc (Test Acc): 80.00 (76.40)\n",
            "Generation # 55. Train Loss: 0.61. Train Acc (Test Acc): 81.00 (78.40)\n",
            "Generation # 60. Train Loss: 0.63. Train Acc (Test Acc): 81.00 (85.20)\n",
            "Generation # 65. Train Loss: 0.59. Train Acc (Test Acc): 80.00 (84.20)\n",
            "Generation # 70. Train Loss: 0.47. Train Acc (Test Acc): 81.00 (83.00)\n",
            "Generation # 75. Train Loss: 0.41. Train Acc (Test Acc): 90.00 (85.60)\n",
            "Generation # 80. Train Loss: 0.51. Train Acc (Test Acc): 84.00 (83.60)\n",
            "Generation # 85. Train Loss: 0.35. Train Acc (Test Acc): 93.00 (84.40)\n",
            "Generation # 90. Train Loss: 0.39. Train Acc (Test Acc): 85.00 (83.80)\n",
            "Generation # 95. Train Loss: 0.50. Train Acc (Test Acc): 88.00 (89.00)\n",
            "Generation # 100. Train Loss: 0.59. Train Acc (Test Acc): 85.00 (88.00)\n",
            "Generation # 105. Train Loss: 0.28. Train Acc (Test Acc): 94.00 (90.20)\n",
            "Generation # 110. Train Loss: 0.26. Train Acc (Test Acc): 92.00 (90.20)\n",
            "Generation # 115. Train Loss: 0.34. Train Acc (Test Acc): 88.00 (93.00)\n",
            "Generation # 120. Train Loss: 0.35. Train Acc (Test Acc): 93.00 (92.40)\n",
            "Generation # 125. Train Loss: 0.27. Train Acc (Test Acc): 91.00 (91.20)\n",
            "Generation # 130. Train Loss: 0.44. Train Acc (Test Acc): 87.00 (93.20)\n",
            "Generation # 135. Train Loss: 0.27. Train Acc (Test Acc): 92.00 (92.80)\n",
            "Generation # 140. Train Loss: 0.29. Train Acc (Test Acc): 89.00 (91.40)\n",
            "Generation # 145. Train Loss: 0.31. Train Acc (Test Acc): 92.00 (90.00)\n",
            "Generation # 150. Train Loss: 0.30. Train Acc (Test Acc): 88.00 (88.60)\n",
            "Generation # 155. Train Loss: 0.33. Train Acc (Test Acc): 89.00 (92.20)\n",
            "Generation # 160. Train Loss: 0.22. Train Acc (Test Acc): 91.00 (92.40)\n",
            "Generation # 165. Train Loss: 0.15. Train Acc (Test Acc): 96.00 (91.20)\n",
            "Generation # 170. Train Loss: 0.20. Train Acc (Test Acc): 95.00 (90.20)\n",
            "Generation # 175. Train Loss: 0.22. Train Acc (Test Acc): 91.00 (93.60)\n",
            "Generation # 180. Train Loss: 0.29. Train Acc (Test Acc): 90.00 (93.00)\n",
            "Generation # 185. Train Loss: 0.19. Train Acc (Test Acc): 95.00 (93.00)\n",
            "Generation # 190. Train Loss: 0.21. Train Acc (Test Acc): 94.00 (90.60)\n",
            "Generation # 195. Train Loss: 0.19. Train Acc (Test Acc): 94.00 (91.60)\n",
            "Generation # 200. Train Loss: 0.20. Train Acc (Test Acc): 94.00 (90.80)\n",
            "Generation # 205. Train Loss: 0.24. Train Acc (Test Acc): 95.00 (93.40)\n",
            "Generation # 210. Train Loss: 0.19. Train Acc (Test Acc): 96.00 (94.00)\n",
            "Generation # 215. Train Loss: 0.21. Train Acc (Test Acc): 95.00 (95.00)\n",
            "Generation # 220. Train Loss: 0.17. Train Acc (Test Acc): 95.00 (92.00)\n",
            "Generation # 225. Train Loss: 0.32. Train Acc (Test Acc): 95.00 (94.20)\n",
            "Generation # 230. Train Loss: 0.22. Train Acc (Test Acc): 92.00 (95.20)\n",
            "Generation # 235. Train Loss: 0.12. Train Acc (Test Acc): 98.00 (94.20)\n",
            "Generation # 240. Train Loss: 0.19. Train Acc (Test Acc): 95.00 (92.80)\n",
            "Generation # 245. Train Loss: 0.26. Train Acc (Test Acc): 93.00 (94.00)\n",
            "Generation # 250. Train Loss: 0.13. Train Acc (Test Acc): 97.00 (96.60)\n",
            "Generation # 255. Train Loss: 0.15. Train Acc (Test Acc): 94.00 (92.80)\n",
            "Generation # 260. Train Loss: 0.21. Train Acc (Test Acc): 93.00 (92.40)\n",
            "Generation # 265. Train Loss: 0.17. Train Acc (Test Acc): 94.00 (93.80)\n",
            "Generation # 270. Train Loss: 0.18. Train Acc (Test Acc): 96.00 (95.20)\n",
            "Generation # 275. Train Loss: 0.13. Train Acc (Test Acc): 95.00 (95.00)\n",
            "Generation # 280. Train Loss: 0.13. Train Acc (Test Acc): 95.00 (93.60)\n",
            "Generation # 285. Train Loss: 0.30. Train Acc (Test Acc): 92.00 (95.60)\n",
            "Generation # 290. Train Loss: 0.14. Train Acc (Test Acc): 96.00 (94.60)\n",
            "Generation # 295. Train Loss: 0.11. Train Acc (Test Acc): 98.00 (93.80)\n",
            "Generation # 300. Train Loss: 0.19. Train Acc (Test Acc): 92.00 (93.20)\n",
            "Generation # 305. Train Loss: 0.16. Train Acc (Test Acc): 95.00 (94.60)\n",
            "Generation # 310. Train Loss: 0.28. Train Acc (Test Acc): 91.00 (97.20)\n",
            "Generation # 315. Train Loss: 0.15. Train Acc (Test Acc): 95.00 (93.60)\n",
            "Generation # 320. Train Loss: 0.22. Train Acc (Test Acc): 93.00 (97.00)\n",
            "Generation # 325. Train Loss: 0.22. Train Acc (Test Acc): 93.00 (93.60)\n",
            "Generation # 330. Train Loss: 0.19. Train Acc (Test Acc): 91.00 (96.00)\n",
            "Generation # 335. Train Loss: 0.17. Train Acc (Test Acc): 94.00 (95.40)\n",
            "Generation # 340. Train Loss: 0.21. Train Acc (Test Acc): 92.00 (93.60)\n",
            "Generation # 345. Train Loss: 0.33. Train Acc (Test Acc): 94.00 (93.80)\n",
            "Generation # 350. Train Loss: 0.19. Train Acc (Test Acc): 94.00 (95.60)\n",
            "Generation # 355. Train Loss: 0.08. Train Acc (Test Acc): 98.00 (95.60)\n",
            "Generation # 360. Train Loss: 0.09. Train Acc (Test Acc): 97.00 (95.60)\n",
            "Generation # 365. Train Loss: 0.18. Train Acc (Test Acc): 96.00 (94.80)\n",
            "Generation # 370. Train Loss: 0.12. Train Acc (Test Acc): 94.00 (94.40)\n",
            "Generation # 375. Train Loss: 0.15. Train Acc (Test Acc): 95.00 (95.40)\n",
            "Generation # 380. Train Loss: 0.17. Train Acc (Test Acc): 93.00 (96.60)\n",
            "Generation # 385. Train Loss: 0.13. Train Acc (Test Acc): 96.00 (94.60)\n",
            "Generation # 390. Train Loss: 0.08. Train Acc (Test Acc): 98.00 (96.40)\n",
            "Generation # 395. Train Loss: 0.24. Train Acc (Test Acc): 93.00 (96.40)\n",
            "Generation # 400. Train Loss: 0.21. Train Acc (Test Acc): 93.00 (95.20)\n",
            "Generation # 405. Train Loss: 0.12. Train Acc (Test Acc): 96.00 (95.00)\n",
            "Generation # 410. Train Loss: 0.17. Train Acc (Test Acc): 97.00 (96.20)\n",
            "Generation # 415. Train Loss: 0.16. Train Acc (Test Acc): 96.00 (96.60)\n",
            "Generation # 420. Train Loss: 0.28. Train Acc (Test Acc): 95.00 (95.40)\n",
            "Generation # 425. Train Loss: 0.15. Train Acc (Test Acc): 96.00 (96.40)\n",
            "Generation # 430. Train Loss: 0.16. Train Acc (Test Acc): 95.00 (94.80)\n",
            "Generation # 435. Train Loss: 0.13. Train Acc (Test Acc): 96.00 (97.00)\n",
            "Generation # 440. Train Loss: 0.14. Train Acc (Test Acc): 98.00 (95.40)\n",
            "Generation # 445. Train Loss: 0.10. Train Acc (Test Acc): 98.00 (96.60)\n",
            "Generation # 450. Train Loss: 0.04. Train Acc (Test Acc): 100.00 (97.80)\n",
            "Generation # 455. Train Loss: 0.08. Train Acc (Test Acc): 97.00 (96.80)\n",
            "Generation # 460. Train Loss: 0.11. Train Acc (Test Acc): 97.00 (96.80)\n",
            "Generation # 465. Train Loss: 0.15. Train Acc (Test Acc): 97.00 (97.00)\n",
            "Generation # 470. Train Loss: 0.10. Train Acc (Test Acc): 98.00 (95.60)\n",
            "Generation # 475. Train Loss: 0.09. Train Acc (Test Acc): 98.00 (97.20)\n",
            "Generation # 480. Train Loss: 0.17. Train Acc (Test Acc): 92.00 (97.20)\n",
            "Generation # 485. Train Loss: 0.26. Train Acc (Test Acc): 91.00 (97.00)\n",
            "Generation # 490. Train Loss: 0.13. Train Acc (Test Acc): 95.00 (96.80)\n",
            "Generation # 495. Train Loss: 0.10. Train Acc (Test Acc): 95.00 (96.60)\n",
            "Generation # 500. Train Loss: 0.11. Train Acc (Test Acc): 95.00 (96.20)\n"
          ],
          "name": "stdout"
        }
      ]
    },
    {
      "metadata": {
        "id": "N5DyJUrqeMm2",
        "colab_type": "code",
        "colab": {
          "base_uri": "https://localhost:8080/",
          "height": 377
        },
        "outputId": "5e39702d-7b80-4260-9c56-da49343a5360"
      },
      "cell_type": "code",
      "source": [
        "# Matlotlib code to plot the loss and accuracies\n",
        "eval_indices = range(0, generations, eval_every)\n",
        "# Plot loss over time\n",
        "plt.plot(eval_indices, train_loss, 'k-')\n",
        "plt.title('Softmax Loss per Generation')\n",
        "plt.xlabel('Generation')\n",
        "plt.ylabel('Softmax Loss')\n",
        "plt.show()\n",
        "\n"
      ],
      "execution_count": 47,
      "outputs": [
        {
          "output_type": "display_data",
          "data": {
            "image/png": "[encoded data removed]",
            "text/plain": [
              "<Figure size 576x396 with 1 Axes>"
            ]
          },
          "metadata": {
            "tags": []
          }
        }
      ]
    },
    {
      "metadata": {
        "id": "gfGRY_BteO5T",
        "colab_type": "code",
        "colab": {
          "base_uri": "https://localhost:8080/",
          "height": 377
        },
        "outputId": "1def1dff-2504-438b-c233-c50085305692"
      },
      "cell_type": "code",
      "source": [
        "# Plot train and test accuracy\n",
        "plt.plot(eval_indices, train_acc, 'k-', label='Train Set Accuracy')\n",
        "plt.plot(eval_indices, test_acc, 'r--', label='Test Set Accuracy')\n",
        "plt.title('Train and Test Accuracy')\n",
        "plt.xlabel('Generation')\n",
        "plt.ylabel('Accuracy')\n",
        "plt.legend(loc='lower right')\n",
        "plt.show()\n"
      ],
      "execution_count": 48,
      "outputs": [
        {
          "output_type": "display_data",
          "data": {
            "image/png": "[encoded data removed]",
            "text/plain": [
              "<Figure size 576x396 with 1 Axes>"
            ]
          },
          "metadata": {
            "tags": []
          }
        }
      ]
    },
    {
      "metadata": {
        "id": "RG7_lP1-eRF5",
        "colab_type": "code",
        "colab": {
          "base_uri": "https://localhost:8080/",
          "height": 339
        },
        "outputId": "3fddb125-0942-4efe-9003-586212b5324f"
      },
      "cell_type": "code",
      "source": [
        "\n",
        "# Plot some samples\n",
        "# Plot the 6 of the last batch results:\n",
        "actuals = rand_y[0:6]\n",
        "predictions = np.argmax(temp_train_preds,axis=1)[0:6]\n",
        "images = np.squeeze(rand_x[0:6])\n",
        "\n",
        "Nrows = 2\n",
        "Ncols = 3\n",
        "for i in range(6):\n",
        "    plt.subplot(Nrows, Ncols, i+1)\n",
        "    plt.imshow(np.reshape(images[i], [28,28]), cmap='Greys_r')\n",
        "    plt.title('Actual: ' + str(actuals[i]) + ' Pred: ' + str(predictions[i]),\n",
        "                               fontsize=10)\n",
        "    frame = plt.gca()\n",
        "    frame.axes.get_xaxis().set_visible(False)\n",
        "    frame.axes.get_yaxis().set_visible(False)"
      ],
      "execution_count": 49,
      "outputs": [
        {
          "output_type": "display_data",
          "data": {
            "image/png": "[encoded data removed]",
            "text/plain": [
              "<Figure size 576x396 with 6 Axes>"
            ]
          },
          "metadata": {
            "tags": []
          }
        }
      ]
    }
  ]
}